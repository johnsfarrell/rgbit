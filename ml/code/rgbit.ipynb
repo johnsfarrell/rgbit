{
  "cells": [
    {
      "cell_type": "markdown",
      "metadata": {
        "id": "Gc1CsBW8zCgf"
      },
      "source": [
        "# Initialize"
      ]
    },
    {
      "cell_type": "markdown",
      "metadata": {
        "id": "8U_IwdMbwnur"
      },
      "source": [
        "## Clone the [RGBIT repository](https://github.com/johnsfarrell/rgbit)"
      ]
    },
    {
      "cell_type": "code",
      "execution_count": null,
      "metadata": {
        "colab": {
          "base_uri": "https://localhost:8080/"
        },
        "id": "oPrrs4jVrFUz",
        "outputId": "331f2535-e711-4cab-9a80-5dd0dbf22aae"
      },
      "outputs": [],
      "source": [
        "!rm rgbit -r\n",
        "!git clone https://github.com/johnsfarrell/rgbit"
      ]
    },
    {
      "cell_type": "markdown",
      "metadata": {
        "id": "zW7lW6iL7MTX"
      },
      "source": [
        "## Train the model"
      ]
    },
    {
      "cell_type": "markdown",
      "metadata": {
        "id": "Nz7CjsHvxS-O"
      },
      "source": [
        "### Download train and test datasets ([MIT](http://places.csail.mit.edu/))"
      ]
    },
    {
      "cell_type": "code",
      "execution_count": null,
      "metadata": {
        "id": "nSF_ynOrpoQh"
      },
      "outputs": [],
      "source": [
        "!wget http://data.csail.mit.edu/places/places365/test_256.tar\n",
        "!mkdir rgbit/ml/data/train\n",
        "!tar -xvf test_256.tar -C rgbit/ml/data/train/.\n",
        "!rm test_256.tar\n",
        "!wget http://data.csail.mit.edu/places/places365/val_256.tar\n",
        "!mkdir rgbit/ml/data/test\n",
        "!tar -xvf val_256.tar -C rgbit/ml/data/test/.\n",
        "!rm val_256.tar\n",
        "!rm sample_data -r"
      ]
    },
    {
      "cell_type": "markdown",
      "metadata": {
        "id": "n6xjFT0MwYu1"
      },
      "source": [
        "### Start training"
      ]
    },
    {
      "cell_type": "code",
      "execution_count": null,
      "metadata": {
        "id": "Ko8ohl4Ys7TW"
      },
      "outputs": [],
      "source": [
        "!cd rgbit/ml/code && python3 main.py"
      ]
    },
    {
      "cell_type": "markdown",
      "metadata": {
        "id": "FM_zTD29zOCQ"
      },
      "source": [
        "## More"
      ]
    },
    {
      "cell_type": "markdown",
      "metadata": {
        "id": "zmgUhwWJwN5m"
      },
      "source": [
        "### Run to **pull updates from the [repo](https://github.com/johnsfarrell/rgbit)**"
      ]
    },
    {
      "cell_type": "code",
      "execution_count": null,
      "metadata": {
        "id": "OxrytT3vwL1l"
      },
      "outputs": [],
      "source": [
        "!cd rgbit && git pull"
      ]
    },
    {
      "cell_type": "markdown",
      "metadata": {},
      "source": []
    },
    {
      "cell_type": "markdown",
      "metadata": {
        "id": "Foz8Hri17MTc"
      },
      "source": [
        "# Visualize\n",
        "\n",
        "Once you have a `model.h5` file, you can visualize the results using the `visualize.py` script."
      ]
    },
    {
      "cell_type": "code",
      "execution_count": null,
      "metadata": {
        "colab": {
          "base_uri": "https://localhost:8080/"
        },
        "id": "ESlzFcBt7MTc",
        "outputId": "4da552a0-25e0-4446-82ef-d1504a9e51a1"
      },
      "outputs": [],
      "source": [
        "!cd rgbit/ml/code && python3 visualize.py # -h for help"
      ]
    }
  ],
  "metadata": {
    "colab": {
      "collapsed_sections": [
        "Gc1CsBW8zCgf",
        "8U_IwdMbwnur",
        "zW7lW6iL7MTX",
        "Nz7CjsHvxS-O",
        "n6xjFT0MwYu1",
        "FM_zTD29zOCQ"
      ],
      "gpuType": "T4",
      "machine_shape": "hm",
      "provenance": []
    },
    "kernelspec": {
      "display_name": "Python 3",
      "name": "python3"
    },
    "language_info": {
      "name": "python"
    }
  },
  "nbformat": 4,
  "nbformat_minor": 0
}

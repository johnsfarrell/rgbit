{
  "cells": [
    {
      "cell_type": "markdown",
      "metadata": {
        "id": "Gc1CsBW8zCgf"
      },
      "source": [
        "# Initialize"
      ]
    },
    {
      "cell_type": "markdown",
      "metadata": {
        "id": "8U_IwdMbwnur"
      },
      "source": [
        "## Clone the [RGBIT repository](https://github.com/johnsfarrell/rgbit)"
      ]
    },
    {
      "cell_type": "code",
      "execution_count": null,
      "metadata": {
        "colab": {
          "base_uri": "https://localhost:8080/"
        },
        "id": "oPrrs4jVrFUz",
        "outputId": "229dfeed-94cf-418d-ffcc-291b32be46ea"
      },
      "outputs": [],
      "source": [
        "!rm rgbit -r\n",
        "!git clone https://github.com/johnsfarrell/rgbit"
      ]
    },
    {
      "cell_type": "markdown",
      "metadata": {
        "id": "0StFtqqaHDkT"
      },
      "source": [
        "Setup virtual environment"
      ]
    },
    {
      "cell_type": "code",
      "execution_count": null,
      "metadata": {
        "colab": {
          "base_uri": "https://localhost:8080/"
        },
        "id": "j6FC8VOqGyfu",
        "outputId": "9378197f-d65b-4ff6-8825-c032a3c317ef"
      },
      "outputs": [],
      "source": [
        "!cd rgbit/ml && ./setup.sh\n",
        "\n",
        "!apt install python3.10-venv\n",
        "\n",
        "!cd rgbit/ml && python3 -m venv venv && source venv/bin/activate && pip3 install -r requirements.txt && pip install ipykernel"
      ]
    },
    {
      "cell_type": "markdown",
      "metadata": {
        "id": "zW7lW6iL7MTX"
      },
      "source": [
        "# Train the model"
      ]
    },
    {
      "cell_type": "markdown",
      "metadata": {
        "id": "Nz7CjsHvxS-O"
      },
      "source": [
        "### Download train and test datasets ([MIT](http://places.csail.mit.edu/))"
      ]
    },
    {
      "cell_type": "code",
      "execution_count": null,
      "metadata": {
        "colab": {
          "base_uri": "https://localhost:8080/"
        },
        "id": "nSF_ynOrpoQh",
        "outputId": "4ff4bd34-2a16-435a-d5af-09cbb5922f2a"
      },
      "outputs": [],
      "source": [
        "!wget http://data.csail.mit.edu/places/places365/test_256.tar\n",
        "!mkdir rgbit/ml/data/train\n",
        "!tar -xvf test_256.tar -C rgbit/ml/data/train/.\n",
        "!rm test_256.tar\n",
        "!wget http://data.csail.mit.edu/places/places365/val_256.tar\n",
        "!mkdir rgbit/ml/data/test\n",
        "!tar -xvf val_256.tar -C rgbit/ml/data/test/.\n",
        "!rm val_256.tar\n",
        "!rm sample_data -r"
      ]
    },
    {
      "cell_type": "markdown",
      "metadata": {
        "id": "n6xjFT0MwYu1"
      },
      "source": [
        "### Start training"
      ]
    },
    {
      "cell_type": "code",
      "execution_count": null,
      "metadata": {
        "id": "Ko8ohl4Ys7TW"
      },
      "outputs": [],
      "source": [
        "!cd rgbit/ml/code && python3 main.py"
      ]
    },
    {
      "cell_type": "markdown",
      "metadata": {
        "id": "FM_zTD29zOCQ"
      },
      "source": [
        "## More"
      ]
    },
    {
      "cell_type": "markdown",
      "metadata": {
        "id": "zmgUhwWJwN5m"
      },
      "source": [
        "### Run to **pull updates from the [repo](https://github.com/johnsfarrell/rgbit)**"
      ]
    },
    {
      "cell_type": "code",
      "execution_count": null,
      "metadata": {
        "id": "OxrytT3vwL1l"
      },
      "outputs": [],
      "source": [
        "!cd rgbit && git pull"
      ]
    },
    {
      "cell_type": "markdown",
      "metadata": {
        "id": "Foz8Hri17MTc"
      },
      "source": [
        "# Colorize\n",
        "\n",
        "Once you have a `model.h5` file, you can visualize the results using the `visualize.py` script.\n",
        "\n",
        "**Use `-s` to save to /content/rgbit/ml/code/output directory**"
      ]
    },
    {
      "cell_type": "code",
      "execution_count": null,
      "metadata": {
        "colab": {
          "base_uri": "https://localhost:8080/"
        },
        "id": "ESlzFcBt7MTc",
        "outputId": "477f8352-4355-480b-c75d-dad026cf2520"
      },
      "outputs": [],
      "source": [
        "# you cannot visualize figures with colab, so by default -nv and -s are on\n",
        "\n",
        "!cd rgbit/ml && source venv/bin/activate && cd code && python3 visualize.py -s -nv"
      ]
    }
  ],
  "metadata": {
    "colab": {
      "collapsed_sections": [
        "Gc1CsBW8zCgf",
        "8U_IwdMbwnur",
        "zW7lW6iL7MTX",
        "Nz7CjsHvxS-O",
        "n6xjFT0MwYu1",
        "FM_zTD29zOCQ"
      ],
      "gpuType": "T4",
      "machine_shape": "hm",
      "provenance": []
    },
    "kernelspec": {
      "display_name": "Python 3",
      "name": "python3"
    },
    "language_info": {
      "name": "python"
    }
  },
  "nbformat": 4,
  "nbformat_minor": 0
}
